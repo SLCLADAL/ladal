{
  "cells": [
    {
      "cell_type": "markdown",
      "metadata": {},
      "source": [
        "# \n",
        "\n",
        "<figure>\n",
        "<img src=\"https://slcladal.github.io/images/uq1.jpg\"\n",
        "alt=\"An interactive LADAL notebook\" />\n",
        "<figcaption aria-hidden=\"true\">An interactive LADAL\n",
        "notebook</figcaption>\n",
        "</figure>\n",
        "\n",
        "------------------------------------------------------------------------\n",
        "\n",
        "Please copy this Jupyter notebook so that you are able to edit it.\n",
        "\n",
        "Simply go to: File \\> Save a copy in Drive.\n",
        "\n",
        "Once you have done that, you are good to go.\n",
        "\n",
        "------------------------------------------------------------------------\n",
        "\n",
        "This tutorial is the interactive Jupyter notebook accompanying the\n",
        "[*Language Technology and Data Analysis Laboratory* (LADAL) tutorial\n",
        "*Regular Expressions in R*](https://ladal.edu.au/regex.html).\n",
        "\n",
        "------------------------------------------------------------------------\n",
        "\n",
        "**Preparation and session set up**\n",
        "\n",
        "If you are using this notebook on Google Colab or your own computer and\n",
        "you have not already installed the R packages listed below, you need to\n",
        "install them. You can install them by running the code chunk below."
      ],
      "id": "ac4362a8-be33-4ac3-aa77-2f0dedbc402a"
    },
    {
      "cell_type": "code",
      "execution_count": null,
      "metadata": {},
      "outputs": [],
      "source": [
        "# install packages\n",
        "install.packages(\"dplyr\")\n",
        "install.packages(\"stringr\")\n",
        "install.packages(\"htmlwidgets\")"
      ],
      "id": "b0b2dd37-70f6-4216-a390-1bf6e96a66d2"
    },
    {
      "cell_type": "markdown",
      "metadata": {},
      "source": [
        "------------------------------------------------------------------------"
      ],
      "id": "38d4ed89-e95d-4dbf-acef-140382844bf4"
    },
    {
      "cell_type": "code",
      "execution_count": null,
      "metadata": {},
      "outputs": [],
      "source": [
        "library(dplyr)\n",
        "library(stringr)\n",
        "library(htmlwidgets)"
      ],
      "id": "5b8f5393-c6c1-4755-96db-51f09697a1d5"
    },
    {
      "cell_type": "markdown",
      "metadata": {},
      "source": [
        "Once you have installed RStudio and have initiated the session by\n",
        "executing the code shown above, you are good to go.\n",
        "\n",
        "# Getting started with Regular Expressions\n",
        "\n",
        "To put regular expressions into practice, we need some text that we will\n",
        "perform out searches on. In this tutorial, we will use texts from\n",
        "wikipedia about grammar."
      ],
      "id": "2363cda8-d5e1-4019-9cff-69c77ed45253"
    },
    {
      "cell_type": "code",
      "execution_count": null,
      "metadata": {},
      "outputs": [
        {
          "output_type": "stream",
          "name": "stdout",
          "text": [
            "[1] \"Grammar is a system of rules which governs the production and use of utterances in a given language. These rules apply to sound as well as meaning, and include componential subsets of rules, such as those pertaining to phonology (the organisation of phonetic sound systems), morphology (the formation and composition of words), and syntax (the formation and composition of phrases and sentences). Many modern theories that deal with the principles of grammar are based on Noam Chomsky's framework of generative linguistics.\""
          ]
        }
      ],
      "source": [
        "# read in first text\n",
        "text1 <- readLines(\"https://slcladal.github.io/data/testcorpus/linguistics02.txt\")\n",
        "et <- paste(text1, sep = \" \", collapse = \" \")\n",
        "# inspect example text\n",
        "et"
      ],
      "id": "bb6d1986-01fd-4473-8f1f-fe2e7aa1e551"
    },
    {
      "cell_type": "markdown",
      "metadata": {},
      "source": [
        "In addition, we will split the example text into words to have another\n",
        "resource we can use to understand regular expressions"
      ],
      "id": "813597bf-34fa-4066-b5af-a529b8a101ed"
    },
    {
      "cell_type": "code",
      "execution_count": null,
      "metadata": {},
      "outputs": [
        {
          "output_type": "stream",
          "name": "stdout",
          "text": [
            "[1] \"Grammar\" \"is\"      \"a\"       \"system\"  \"of\"      \"rules\"  "
          ]
        }
      ],
      "source": [
        "# split example text\n",
        "set <- str_split(et, \" \") %>%\n",
        "    unlist()\n",
        "# inspect\n",
        "head(set)"
      ],
      "id": "a120eb29-659e-42a3-aa8b-e737ca626d99"
    },
    {
      "cell_type": "markdown",
      "metadata": {},
      "source": [
        "------------------------------------------------------------------------\n",
        "\n",
        "## Using your own data\n",
        "\n",
        "While the tutorial uses data from the LADAL website, you can also use\n",
        "your own data. You can see below what you need to do to upload and use\n",
        "your own data.\n",
        "\n",
        "The code chunk below allows you to upload two files from your own\n",
        "computer. To be able to load your own data, you need to click on the\n",
        "folder symbol to the left of the screen:\n",
        "\n",
        "<figure>\n",
        "<img src=\"https://slcladal.github.io/images/ColabFolder.png\"\n",
        "alt=\"Colab Folder Symbol\" />\n",
        "<figcaption aria-hidden=\"true\">Colab Folder Symbol</figcaption>\n",
        "</figure>\n",
        "\n",
        "Then on the upload symbol.\n",
        "\n",
        "<figure>\n",
        "<img src=\"https://slcladal.github.io/images/ColabUpload.png\"\n",
        "alt=\"Colab Upload Symbol\" />\n",
        "<figcaption aria-hidden=\"true\">Colab Upload Symbol</figcaption>\n",
        "</figure>\n",
        "\n",
        "Next, upload the files you want to analyze and then the respective files\n",
        "names in the file argument of the scan function. When you then execute\n",
        "the code (like to code chunk below, you will upload your own data."
      ],
      "id": "6a516b86-a436-4ff2-bb8f-bfe44955a422"
    },
    {
      "cell_type": "code",
      "execution_count": null,
      "metadata": {},
      "outputs": [],
      "source": [
        "mytext <- scan(\n",
        "    file = \"linguistics01.txt\",\n",
        "    what = \"char\",\n",
        "    sep = \"\",\n",
        "    quote = \"\",\n",
        "    quiet = T,\n",
        "    skipNul = T\n",
        ") %>%\n",
        "    paste0(collapse = \" \")\n",
        "mywords <- str_split(mytext, \" \") %>%\n",
        "    unlist()\n",
        "# inspect\n",
        "mytext\n",
        "mywords"
      ],
      "id": "af520b1f-2f77-4832-bddb-4c7fe07eb5e2"
    },
    {
      "cell_type": "markdown",
      "metadata": {},
      "source": [
        "**Keep in mind though that you need to adapt the names of the texts in\n",
        "the code chunks below so that the code below work on your own texts!**\n",
        "\n",
        "------------------------------------------------------------------------\n",
        "\n",
        "Before we delve into using regular expressions, we will have a look at\n",
        "the regular expressions that can be used in R and also check what they\n",
        "stand for.\n",
        "\n",
        "There are three basic types of regular expressions:\n",
        "\n",
        "-   regular expressions that stand for individual symbols and determine\n",
        "    frequencies\n",
        "\n",
        "-   regular expressions that stand for classes of symbols\n",
        "\n",
        "-   regular expressions that stand for structural properties\n",
        "\n",
        "The regular expressions below show the first type of regular\n",
        "expressions, i.e. regular expressions that stand for individual symbols\n",
        "and determine frequencies.\n",
        "\n",
        "<figure>\n",
        "<img src=\"https://slcladal.github.io/images/regex1.JPG\"\n",
        "alt=\"Regular expressions that stand for individual symbols and determine frequencies.\" />\n",
        "<figcaption aria-hidden=\"true\">Regular expressions that stand for\n",
        "individual symbols and determine frequencies.</figcaption>\n",
        "</figure>\n",
        "\n",
        "The regular expressions below show the second type of regular\n",
        "expressions, i.e. regular expressions that stand for classes of symbols.\n",
        "\n",
        "<figure>\n",
        "<img src=\"https://slcladal.github.io/images/regex2.JPG\"\n",
        "alt=\"Regular expressions that stand for classes of symbols.\" />\n",
        "<figcaption aria-hidden=\"true\">Regular expressions that stand for\n",
        "classes of symbols.</figcaption>\n",
        "</figure>\n",
        "\n",
        "The regular expressions that denote classes of symbols are enclosed in\n",
        "`[]` and `:`. The last type of regular expressions, i.e. regular\n",
        "expressions that stand for structural properties are shown below.\n",
        "\n",
        "<figure>\n",
        "<img src=\"https://slcladal.github.io/images/regex3.JPG\"\n",
        "alt=\"Regular expressions that stand for structural properties.\" />\n",
        "<figcaption aria-hidden=\"true\">Regular expressions that stand for\n",
        "structural properties.</figcaption>\n",
        "</figure>\n",
        "\n",
        "# Practice\n",
        "\n",
        "In this section, we will explore how to use regular expressions. At the\n",
        "end, we will go through some exercises to help you understand how you\n",
        "can best utilize regular expressions.\n",
        "\n",
        "Show all words in the split example text that contain `a` or `n`."
      ],
      "id": "da0c5cff-acec-4d67-9786-0b9efef4ce20"
    },
    {
      "cell_type": "code",
      "execution_count": null,
      "metadata": {},
      "outputs": [
        {
          "output_type": "stream",
          "name": "stdout",
          "text": [
            " [1] \"Grammar\"      \"a\"            \"governs\"      \"production\"   \"and\"         \n",
            " [6] \"utterances\"   \"in\"           \"a\"            \"given\"        \"language.\"   \n",
            "[11] \"apply\"        \"sound\"        \"as\"           \"as\"           \"meaning,\"    \n",
            "[16] \"and\"          \"include\"      \"componential\" \"as\"           \"pertaining\"  \n",
            "[21] \"phonology\"    \"organisation\" \"phonetic\"     \"sound\"        \"formation\"   \n",
            "[26] \"and\"          \"composition\"  \"and\"          \"syntax\"       \"formation\"   \n",
            "[31] \"and\"          \"composition\"  \"phrases\"      \"and\"          \"sentences).\" \n",
            "[36] \"Many\"         \"modern\"       \"that\"         \"deal\"         \"principles\"  \n",
            "[41] \"grammar\"      \"are\"          \"based\"        \"on\"           \"Noam\"        \n",
            "[46] \"framework\"    \"generative\"   \"linguistics.\""
          ]
        }
      ],
      "source": [
        "set[str_detect(set, \"[an]\")]"
      ],
      "id": "53a57e6d-b3a5-4fc1-913d-33d87ea04455"
    },
    {
      "cell_type": "markdown",
      "metadata": {},
      "source": [
        "Show all words in the split example text that begin with a lower case\n",
        "`a`."
      ],
      "id": "2c3eab58-c8f5-4672-bfaa-5a61c8412262"
    },
    {
      "cell_type": "code",
      "execution_count": null,
      "metadata": {},
      "outputs": [
        {
          "output_type": "stream",
          "name": "stdout",
          "text": [
            " [1] \"a\"     \"and\"   \"a\"     \"apply\" \"as\"    \"as\"    \"and\"   \"as\"    \"and\"  \n",
            "[10] \"and\"   \"and\"   \"and\"   \"are\"  "
          ]
        }
      ],
      "source": [
        "set[str_detect(set, \"^a\")]"
      ],
      "id": "b01ee7f3-b33e-46d9-84d8-dd0c0f5e4bc7"
    },
    {
      "cell_type": "markdown",
      "metadata": {},
      "source": [
        "Show all words in the split example text that end in a lower case `s`."
      ],
      "id": "3e2e059a-b882-4bc0-82f6-def7dafc2f4c"
    },
    {
      "cell_type": "code",
      "execution_count": null,
      "metadata": {},
      "outputs": [
        {
          "output_type": "stream",
          "name": "stdout",
          "text": [
            " [1] \"is\"         \"rules\"      \"governs\"    \"utterances\" \"rules\"     \n",
            " [6] \"as\"         \"as\"         \"subsets\"    \"as\"         \"phrases\"   \n",
            "[11] \"theories\"   \"principles\" \"Chomsky's\" "
          ]
        }
      ],
      "source": [
        "set[str_detect(set, \"s$\")]"
      ],
      "id": "c8ba8b3e-249b-4c54-9730-6923b2ad5534"
    },
    {
      "cell_type": "markdown",
      "metadata": {},
      "source": [
        "Show all words in the split example text in which there is an `e`, then\n",
        "any other character, and than another `n`."
      ],
      "id": "b71a334c-113d-46a2-95cd-397dcfdee178"
    },
    {
      "cell_type": "code",
      "execution_count": null,
      "metadata": {},
      "outputs": [
        {
          "output_type": "stream",
          "name": "stdout",
          "text": [
            "[1] \"governs\"  \"meaning,\" \"modern\"  "
          ]
        }
      ],
      "source": [
        "set[str_detect(set, \"e.n\")]"
      ],
      "id": "cd8e8e9b-d1a5-4539-a4b3-0569e4e574b5"
    },
    {
      "cell_type": "markdown",
      "metadata": {},
      "source": [
        "Show all words in the split example text in which there is an `e`, then\n",
        "two other characters, and than another `n`."
      ],
      "id": "036b4962-c1e5-48ad-b743-65436f3a8278"
    },
    {
      "cell_type": "code",
      "execution_count": null,
      "metadata": {},
      "outputs": [
        {
          "output_type": "stream",
          "name": "stdout",
          "text": [
            "[1] \"utterances\""
          ]
        }
      ],
      "source": [
        "set[str_detect(set, \"e.{2,2}n\")]"
      ],
      "id": "342a35bd-315b-44d5-9a34-e873918ad2b4"
    },
    {
      "cell_type": "markdown",
      "metadata": {},
      "source": [
        "Show all words that consist of exactly three alphabetical characters in\n",
        "the split example text."
      ],
      "id": "584f50bf-31d9-4fd1-8f86-bfbdd6e5b599"
    },
    {
      "cell_type": "code",
      "execution_count": null,
      "metadata": {},
      "outputs": [
        {
          "output_type": "stream",
          "name": "stdout",
          "text": [
            " [1] \"the\" \"and\" \"use\" \"and\" \"and\" \"and\" \"and\" \"and\" \"the\" \"are\""
          ]
        }
      ],
      "source": [
        "set[str_detect(set, \"^[:alpha:]{3,3}$\")]"
      ],
      "id": "52215fee-00af-433b-a28e-3017ebffd55b"
    },
    {
      "cell_type": "markdown",
      "metadata": {},
      "source": [
        "Show all words that consist of six or more alphabetical characters in\n",
        "the split example text."
      ],
      "id": "53e7fc78-7561-4925-b804-f9a474fdcca3"
    },
    {
      "cell_type": "code",
      "execution_count": null,
      "metadata": {},
      "outputs": [
        {
          "output_type": "stream",
          "name": "stdout",
          "text": [
            " [1] \"Grammar\"      \"system\"       \"governs\"      \"production\"   \"utterances\"  \n",
            " [6] \"include\"      \"componential\" \"subsets\"      \"pertaining\"   \"phonology\"   \n",
            "[11] \"organisation\" \"phonetic\"     \"morphology\"   \"formation\"    \"composition\" \n",
            "[16] \"syntax\"       \"formation\"    \"composition\"  \"phrases\"      \"modern\"      \n",
            "[21] \"theories\"     \"principles\"   \"grammar\"      \"framework\"    \"generative\"  "
          ]
        }
      ],
      "source": [
        "set[str_detect(set, \"^[:alpha:]{6,}$\")]"
      ],
      "id": "15484269-d16c-4181-aafd-9e4b3ce7bdf0"
    },
    {
      "cell_type": "markdown",
      "metadata": {},
      "source": [
        "Replace all lower case `a`s with upper case `E`s in the example text."
      ],
      "id": "f019fdc5-cc21-441d-95dd-e03956c0bfc4"
    },
    {
      "cell_type": "code",
      "execution_count": null,
      "metadata": {},
      "outputs": [
        {
          "output_type": "stream",
          "name": "stdout",
          "text": [
            "[1] \"GrEmmEr is E system of rules which governs the production End use of utterEnces in E given lEnguEge. These rules Epply to sound Es well Es meEning, End include componentiEl subsets of rules, such Es those pertEining to phonology (the orgEnisEtion of phonetic sound systems), morphology (the formEtion End composition of words), End syntEx (the formEtion End composition of phrEses End sentences). MEny modern theories thEt deEl with the principles of grEmmEr Ere bEsed on NoEm Chomsky's frEmework of generEtive linguistics.\""
          ]
        }
      ],
      "source": [
        "str_replace_all(et, \"a\", \"E\")"
      ],
      "id": "e9567f7a-f6b4-4005-bb6b-52b628604706"
    },
    {
      "cell_type": "markdown",
      "metadata": {},
      "source": [
        "Remove all non-alphabetical characters in the split example text."
      ],
      "id": "fd266ee0-7b9e-4cf0-a37a-20adbfd9351f"
    },
    {
      "cell_type": "code",
      "execution_count": null,
      "metadata": {},
      "outputs": [
        {
          "output_type": "stream",
          "name": "stdout",
          "text": [
            " [1] \"Grammar\"      \"is\"           \"a\"            \"system\"       \"of\"          \n",
            " [6] \"rules\"        \"which\"        \"governs\"      \"the\"          \"production\"  \n",
            "[11] \"and\"          \"use\"          \"of\"           \"utterances\"   \"in\"          \n",
            "[16] \"a\"            \"given\"        \"language\"     \"These\"        \"rules\"       \n",
            "[21] \"apply\"        \"to\"           \"sound\"        \"as\"           \"well\"        \n",
            "[26] \"as\"           \"meaning\"      \"and\"          \"include\"      \"componential\"\n",
            "[31] \"subsets\"      \"of\"           \"rules\"        \"such\"         \"as\"          \n",
            "[36] \"those\"        \"pertaining\"   \"to\"           \"phonology\"    \"the\"         \n",
            "[41] \"organisation\" \"of\"           \"phonetic\"     \"sound\"        \"systems\"     \n",
            "[46] \"morphology\"   \"the\"          \"formation\"    \"and\"          \"composition\" \n",
            "[51] \"of\"           \"words\"        \"and\"          \"syntax\"       \"the\"         \n",
            "[56] \"formation\"    \"and\"          \"composition\"  \"of\"           \"phrases\"     \n",
            "[61] \"and\"          \"sentences\"    \"Many\"         \"modern\"       \"theories\"    \n",
            "[66] \"that\"         \"deal\"         \"with\"         \"the\"          \"principles\"  \n",
            "[71] \"of\"           \"grammar\"      \"are\"          \"based\"        \"on\"          \n",
            "[76] \"Noam\"         \"Chomskys\"     \"framework\"    \"of\"           \"generative\"  \n",
            "[81] \"linguistics\" "
          ]
        }
      ],
      "source": [
        "str_remove_all(set, \"\\\\W\")"
      ],
      "id": "5799a39e-0f4e-41d1-b433-aca8de23ca9c"
    },
    {
      "cell_type": "markdown",
      "metadata": {},
      "source": [
        "Remove all white spaces in the example text."
      ],
      "id": "0468dd8c-56ab-4b24-9a57-a2aa7f20cb90"
    },
    {
      "cell_type": "code",
      "execution_count": null,
      "metadata": {},
      "outputs": [
        {
          "output_type": "stream",
          "name": "stdout",
          "text": [
            "[1] \"Grammarisasystemofruleswhichgovernstheproductionanduseofutterancesinagivenlanguage.Theserulesapplytosoundaswellasmeaning,andincludecomponentialsubsetsofrules,suchasthosepertainingtophonology(theorganisationofphoneticsoundsystems),morphology(theformationandcompositionofwords),andsyntax(theformationandcompositionofphrasesandsentences).ManymoderntheoriesthatdealwiththeprinciplesofgrammararebasedonNoamChomsky'sframeworkofgenerativelinguistics.\""
          ]
        }
      ],
      "source": [
        "str_remove_all(et, \" \")"
      ],
      "id": "cada59fd-a989-49e0-95e5-bcb7a989e08e"
    },
    {
      "cell_type": "markdown",
      "metadata": {},
      "source": [
        "------------------------------------------------------------------------\n",
        "\n",
        "[Back to LADAL](https://ladal.edu.au/regex.html)\n",
        "\n",
        "------------------------------------------------------------------------"
      ],
      "id": "8b9db4d1-e43b-4d36-89e4-fd461ffb798f"
    }
  ],
  "nbformat": 4,
  "nbformat_minor": 5,
  "metadata": {
    "kernelspec": {
      "display_name": "Python 3",
      "language": "python",
      "name": "python3"
    }
  }
}