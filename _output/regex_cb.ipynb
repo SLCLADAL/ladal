{
  "cells": [
    {
      "cell_type": "markdown",
      "metadata": {},
      "source": [
        "# \n",
        "\n",
        "<figure>\n",
        "<img src=\"https://slcladal.github.io/images/uq1.jpg\"\n",
        "alt=\"An interactive LADAL notebook\" />\n",
        "<figcaption aria-hidden=\"true\">An interactive LADAL\n",
        "notebook</figcaption>\n",
        "</figure>\n",
        "\n",
        "------------------------------------------------------------------------\n",
        "\n",
        "Please copy this Jupyter notebook so that you are able to edit it.\n",
        "\n",
        "Simply go to: File \\> Save a copy in Drive.\n",
        "\n",
        "Once you have done that, you are good to go.\n",
        "\n",
        "------------------------------------------------------------------------\n",
        "\n",
        "This tutorial is the interactive Jupyter notebook accompanying the\n",
        "[*Language Technology and Data Analysis Laboratory* (LADAL) tutorial\n",
        "*Regular Expressions in R*](https://ladal.edu.au/regex.html).\n",
        "\n",
        "------------------------------------------------------------------------\n",
        "\n",
        "**Preparation and session set up**\n",
        "\n",
        "If you are using this notebook on Google Colab or your own computer and\n",
        "you have not already installed the R packages listed below, you need to\n",
        "install them. You can install them by running the code chunk below."
      ],
      "id": "005d5e51-1178-42a9-b3f8-ea1d5a9ead18"
    },
    {
      "cell_type": "code",
      "execution_count": null,
      "metadata": {},
      "outputs": [],
      "source": [
        "# install packages\n",
        "install.packages(\"dplyr\")\n",
        "install.packages(\"stringr\")\n",
        "install.packages(\"htmlwidgets\")"
      ],
      "id": "366c7ebf-d831-492f-8d6f-98e5f5ac0af3"
    },
    {
      "cell_type": "markdown",
      "metadata": {},
      "source": [
        "------------------------------------------------------------------------"
      ],
      "id": "079c71ef-c2d4-495b-9e4f-ce21d2972d76"
    },
    {
      "cell_type": "code",
      "execution_count": null,
      "metadata": {},
      "outputs": [],
      "source": [
        "library(dplyr)\n",
        "library(stringr)\n",
        "library(htmlwidgets)"
      ],
      "id": "4b481b24-e18e-4392-af18-5c00434bb50c"
    },
    {
      "cell_type": "markdown",
      "metadata": {},
      "source": [
        "Once you have installed RStudio and have initiated the session by\n",
        "executing the code shown above, you are good to go.\n",
        "\n",
        "# Getting started with Regular Expressions\n",
        "\n",
        "To put regular expressions into practice, we need some text that we will\n",
        "perform out searches on. In this tutorial, we will use texts from\n",
        "wikipedia about grammar."
      ],
      "id": "35900463-94d1-4118-840a-b267efa6386d"
    },
    {
      "cell_type": "code",
      "execution_count": null,
      "metadata": {},
      "outputs": [
        {
          "output_type": "stream",
          "name": "stdout",
          "text": [
            "[1] \"Grammar is a system of rules which governs the production and use of utterances in a given language. These rules apply to sound as well as meaning, and include componential subsets of rules, such as those pertaining to phonology (the organisation of phonetic sound systems), morphology (the formation and composition of words), and syntax (the formation and composition of phrases and sentences). Many modern theories that deal with the principles of grammar are based on Noam Chomsky's framework of generative linguistics.\""
          ]
        }
      ],
      "source": [
        "# read in first text\n",
        "text1 <- readLines(\"https://slcladal.github.io/data/testcorpus/linguistics02.txt\")\n",
        "et <- paste(text1, sep = \" \", collapse = \" \")\n",
        "# inspect example text\n",
        "et"
      ],
      "id": "77be86e6-2b89-40f1-b21f-ec4778b05ebe"
    },
    {
      "cell_type": "markdown",
      "metadata": {},
      "source": [
        "In addition, we will split the example text into words to have another\n",
        "resource we can use to understand regular expressions"
      ],
      "id": "8fc56dd7-da4d-4c19-a848-5bea0cade3bd"
    },
    {
      "cell_type": "code",
      "execution_count": null,
      "metadata": {},
      "outputs": [
        {
          "output_type": "stream",
          "name": "stdout",
          "text": [
            "[1] \"Grammar\" \"is\"      \"a\"       \"system\"  \"of\"      \"rules\"  "
          ]
        }
      ],
      "source": [
        "# split example text\n",
        "set <- str_split(et, \" \") %>%\n",
        "    unlist()\n",
        "# inspect\n",
        "head(set)"
      ],
      "id": "fae6921f-4a8b-493c-a62c-ed167c229bc9"
    },
    {
      "cell_type": "markdown",
      "metadata": {},
      "source": [
        "------------------------------------------------------------------------\n",
        "\n",
        "## Using your own data\n",
        "\n",
        "While the tutorial uses data from the LADAL website, you can also use\n",
        "your own data. You can see below what you need to do to upload and use\n",
        "your own data.\n",
        "\n",
        "The code chunk below allows you to upload two files from your own\n",
        "computer. To be able to load your own data, you need to click on the\n",
        "folder symbol to the left of the screen:\n",
        "\n",
        "<figure>\n",
        "<img src=\"https://slcladal.github.io/images/ColabFolder.png\"\n",
        "alt=\"Colab Folder Symbol\" />\n",
        "<figcaption aria-hidden=\"true\">Colab Folder Symbol</figcaption>\n",
        "</figure>\n",
        "\n",
        "Then on the upload symbol.\n",
        "\n",
        "<figure>\n",
        "<img src=\"https://slcladal.github.io/images/ColabUpload.png\"\n",
        "alt=\"Colab Upload Symbol\" />\n",
        "<figcaption aria-hidden=\"true\">Colab Upload Symbol</figcaption>\n",
        "</figure>\n",
        "\n",
        "Next, upload the files you want to analyze and then the respective files\n",
        "names in the file argument of the scan function. When you then execute\n",
        "the code (like to code chunk below, you will upload your own data."
      ],
      "id": "822aa123-8540-47bb-aeff-f0a88228084e"
    },
    {
      "cell_type": "code",
      "execution_count": null,
      "metadata": {},
      "outputs": [],
      "source": [
        "mytext <- scan(\n",
        "    file = \"linguistics01.txt\",\n",
        "    what = \"char\",\n",
        "    sep = \"\",\n",
        "    quote = \"\",\n",
        "    quiet = T,\n",
        "    skipNul = T\n",
        ") %>%\n",
        "    paste0(collapse = \" \")\n",
        "mywords <- str_split(mytext, \" \") %>%\n",
        "    unlist()\n",
        "# inspect\n",
        "mytext\n",
        "mywords"
      ],
      "id": "d3820a0e-39c2-4a44-bab5-7d475831d43e"
    },
    {
      "cell_type": "markdown",
      "metadata": {},
      "source": [
        "**Keep in mind though that you need to adapt the names of the texts in\n",
        "the code chunks below so that the code below work on your own texts!**\n",
        "\n",
        "------------------------------------------------------------------------\n",
        "\n",
        "Before we delve into using regular expressions, we will have a look at\n",
        "the regular expressions that can be used in R and also check what they\n",
        "stand for.\n",
        "\n",
        "There are three basic types of regular expressions:\n",
        "\n",
        "-   regular expressions that stand for individual symbols and determine\n",
        "    frequencies\n",
        "\n",
        "-   regular expressions that stand for classes of symbols\n",
        "\n",
        "-   regular expressions that stand for structural properties\n",
        "\n",
        "The regular expressions below show the first type of regular\n",
        "expressions, i.e. regular expressions that stand for individual symbols\n",
        "and determine frequencies.\n",
        "\n",
        "<figure>\n",
        "<img src=\"https://slcladal.github.io/images/regex1.JPG\"\n",
        "alt=\"Regular expressions that stand for individual symbols and determine frequencies.\" />\n",
        "<figcaption aria-hidden=\"true\">Regular expressions that stand for\n",
        "individual symbols and determine frequencies.</figcaption>\n",
        "</figure>\n",
        "\n",
        "The regular expressions below show the second type of regular\n",
        "expressions, i.e. regular expressions that stand for classes of symbols.\n",
        "\n",
        "<figure>\n",
        "<img src=\"https://slcladal.github.io/images/regex2.JPG\"\n",
        "alt=\"Regular expressions that stand for classes of symbols.\" />\n",
        "<figcaption aria-hidden=\"true\">Regular expressions that stand for\n",
        "classes of symbols.</figcaption>\n",
        "</figure>\n",
        "\n",
        "The regular expressions that denote classes of symbols are enclosed in\n",
        "`[]` and `:`. The last type of regular expressions, i.e. regular\n",
        "expressions that stand for structural properties are shown below.\n",
        "\n",
        "<figure>\n",
        "<img src=\"https://slcladal.github.io/images/regex3.JPG\"\n",
        "alt=\"Regular expressions that stand for structural properties.\" />\n",
        "<figcaption aria-hidden=\"true\">Regular expressions that stand for\n",
        "structural properties.</figcaption>\n",
        "</figure>\n",
        "\n",
        "# Practice\n",
        "\n",
        "In this section, we will explore how to use regular expressions. At the\n",
        "end, we will go through some exercises to help you understand how you\n",
        "can best utilize regular expressions.\n",
        "\n",
        "Show all words in the split example text that contain `a` or `n`."
      ],
      "id": "90ab43bc-aa07-48c4-bca3-adbaeb4dced6"
    },
    {
      "cell_type": "code",
      "execution_count": null,
      "metadata": {},
      "outputs": [
        {
          "output_type": "stream",
          "name": "stdout",
          "text": [
            " [1] \"Grammar\"      \"a\"            \"governs\"      \"production\"   \"and\"         \n",
            " [6] \"utterances\"   \"in\"           \"a\"            \"given\"        \"language.\"   \n",
            "[11] \"apply\"        \"sound\"        \"as\"           \"as\"           \"meaning,\"    \n",
            "[16] \"and\"          \"include\"      \"componential\" \"as\"           \"pertaining\"  \n",
            "[21] \"phonology\"    \"organisation\" \"phonetic\"     \"sound\"        \"formation\"   \n",
            "[26] \"and\"          \"composition\"  \"and\"          \"syntax\"       \"formation\"   \n",
            "[31] \"and\"          \"composition\"  \"phrases\"      \"and\"          \"sentences).\" \n",
            "[36] \"Many\"         \"modern\"       \"that\"         \"deal\"         \"principles\"  \n",
            "[41] \"grammar\"      \"are\"          \"based\"        \"on\"           \"Noam\"        \n",
            "[46] \"framework\"    \"generative\"   \"linguistics.\""
          ]
        }
      ],
      "source": [
        "set[str_detect(set, \"[an]\")]"
      ],
      "id": "234da822-3038-470e-a91f-ea2b328418f6"
    },
    {
      "cell_type": "markdown",
      "metadata": {},
      "source": [
        "Show all words in the split example text that begin with a lower case\n",
        "`a`."
      ],
      "id": "0a9e06bf-8e4f-47b1-b2da-9d9986d66e77"
    },
    {
      "cell_type": "code",
      "execution_count": null,
      "metadata": {},
      "outputs": [
        {
          "output_type": "stream",
          "name": "stdout",
          "text": [
            " [1] \"a\"     \"and\"   \"a\"     \"apply\" \"as\"    \"as\"    \"and\"   \"as\"    \"and\"  \n",
            "[10] \"and\"   \"and\"   \"and\"   \"are\"  "
          ]
        }
      ],
      "source": [
        "set[str_detect(set, \"^a\")]"
      ],
      "id": "ef8331fc-69f7-4d9c-928f-041c0ef25140"
    },
    {
      "cell_type": "markdown",
      "metadata": {},
      "source": [
        "Show all words in the split example text that end in a lower case `s`."
      ],
      "id": "8163d597-2f4c-4d04-9a92-8cfa3f378c88"
    },
    {
      "cell_type": "code",
      "execution_count": null,
      "metadata": {},
      "outputs": [
        {
          "output_type": "stream",
          "name": "stdout",
          "text": [
            " [1] \"is\"         \"rules\"      \"governs\"    \"utterances\" \"rules\"     \n",
            " [6] \"as\"         \"as\"         \"subsets\"    \"as\"         \"phrases\"   \n",
            "[11] \"theories\"   \"principles\" \"Chomsky's\" "
          ]
        }
      ],
      "source": [
        "set[str_detect(set, \"s$\")]"
      ],
      "id": "3d2718e9-9f61-43d4-8812-acfbcf52d11b"
    },
    {
      "cell_type": "markdown",
      "metadata": {},
      "source": [
        "Show all words in the split example text in which there is an `e`, then\n",
        "any other character, and than another `n`."
      ],
      "id": "eb28d785-335d-41f8-ab4c-27703c97bda9"
    },
    {
      "cell_type": "code",
      "execution_count": null,
      "metadata": {},
      "outputs": [
        {
          "output_type": "stream",
          "name": "stdout",
          "text": [
            "[1] \"governs\"  \"meaning,\" \"modern\"  "
          ]
        }
      ],
      "source": [
        "set[str_detect(set, \"e.n\")]"
      ],
      "id": "5ed9ab75-3bb6-49d4-955a-2fe07628c2fc"
    },
    {
      "cell_type": "markdown",
      "metadata": {},
      "source": [
        "Show all words in the split example text in which there is an `e`, then\n",
        "two other characters, and than another `n`."
      ],
      "id": "d7d0d895-4ad9-4215-9be3-d7c0eef70f2a"
    },
    {
      "cell_type": "code",
      "execution_count": null,
      "metadata": {},
      "outputs": [
        {
          "output_type": "stream",
          "name": "stdout",
          "text": [
            "[1] \"utterances\""
          ]
        }
      ],
      "source": [
        "set[str_detect(set, \"e.{2,2}n\")]"
      ],
      "id": "dedc05f0-7408-4db8-a42c-70c3d18cae91"
    },
    {
      "cell_type": "markdown",
      "metadata": {},
      "source": [
        "Show all words that consist of exactly three alphabetical characters in\n",
        "the split example text."
      ],
      "id": "a407e2d3-4d91-49f5-9610-48f9c2f83f78"
    },
    {
      "cell_type": "code",
      "execution_count": null,
      "metadata": {},
      "outputs": [
        {
          "output_type": "stream",
          "name": "stdout",
          "text": [
            " [1] \"the\" \"and\" \"use\" \"and\" \"and\" \"and\" \"and\" \"and\" \"the\" \"are\""
          ]
        }
      ],
      "source": [
        "set[str_detect(set, \"^[:alpha:]{3,3}$\")]"
      ],
      "id": "e699d593-7b89-467c-a7cf-8a727af3808c"
    },
    {
      "cell_type": "markdown",
      "metadata": {},
      "source": [
        "Show all words that consist of six or more alphabetical characters in\n",
        "the split example text."
      ],
      "id": "93663a29-5def-4997-9157-026fd13c6e6a"
    },
    {
      "cell_type": "code",
      "execution_count": null,
      "metadata": {},
      "outputs": [
        {
          "output_type": "stream",
          "name": "stdout",
          "text": [
            " [1] \"Grammar\"      \"system\"       \"governs\"      \"production\"   \"utterances\"  \n",
            " [6] \"include\"      \"componential\" \"subsets\"      \"pertaining\"   \"phonology\"   \n",
            "[11] \"organisation\" \"phonetic\"     \"morphology\"   \"formation\"    \"composition\" \n",
            "[16] \"syntax\"       \"formation\"    \"composition\"  \"phrases\"      \"modern\"      \n",
            "[21] \"theories\"     \"principles\"   \"grammar\"      \"framework\"    \"generative\"  "
          ]
        }
      ],
      "source": [
        "set[str_detect(set, \"^[:alpha:]{6,}$\")]"
      ],
      "id": "41871d68-0ffb-41fc-aa36-19d0ccba58ff"
    },
    {
      "cell_type": "markdown",
      "metadata": {},
      "source": [
        "Replace all lower case `a`s with upper case `E`s in the example text."
      ],
      "id": "1d9a2b94-c15b-4621-83f5-7d35c246bb32"
    },
    {
      "cell_type": "code",
      "execution_count": null,
      "metadata": {},
      "outputs": [
        {
          "output_type": "stream",
          "name": "stdout",
          "text": [
            "[1] \"GrEmmEr is E system of rules which governs the production End use of utterEnces in E given lEnguEge. These rules Epply to sound Es well Es meEning, End include componentiEl subsets of rules, such Es those pertEining to phonology (the orgEnisEtion of phonetic sound systems), morphology (the formEtion End composition of words), End syntEx (the formEtion End composition of phrEses End sentences). MEny modern theories thEt deEl with the principles of grEmmEr Ere bEsed on NoEm Chomsky's frEmework of generEtive linguistics.\""
          ]
        }
      ],
      "source": [
        "str_replace_all(et, \"a\", \"E\")"
      ],
      "id": "4c3afaf1-5cf3-40d4-a007-bc908b7bd0bc"
    },
    {
      "cell_type": "markdown",
      "metadata": {},
      "source": [
        "Remove all non-alphabetical characters in the split example text."
      ],
      "id": "1d31eaba-aa71-469b-b331-3faa57229ac3"
    },
    {
      "cell_type": "code",
      "execution_count": null,
      "metadata": {},
      "outputs": [
        {
          "output_type": "stream",
          "name": "stdout",
          "text": [
            " [1] \"Grammar\"      \"is\"           \"a\"            \"system\"       \"of\"          \n",
            " [6] \"rules\"        \"which\"        \"governs\"      \"the\"          \"production\"  \n",
            "[11] \"and\"          \"use\"          \"of\"           \"utterances\"   \"in\"          \n",
            "[16] \"a\"            \"given\"        \"language\"     \"These\"        \"rules\"       \n",
            "[21] \"apply\"        \"to\"           \"sound\"        \"as\"           \"well\"        \n",
            "[26] \"as\"           \"meaning\"      \"and\"          \"include\"      \"componential\"\n",
            "[31] \"subsets\"      \"of\"           \"rules\"        \"such\"         \"as\"          \n",
            "[36] \"those\"        \"pertaining\"   \"to\"           \"phonology\"    \"the\"         \n",
            "[41] \"organisation\" \"of\"           \"phonetic\"     \"sound\"        \"systems\"     \n",
            "[46] \"morphology\"   \"the\"          \"formation\"    \"and\"          \"composition\" \n",
            "[51] \"of\"           \"words\"        \"and\"          \"syntax\"       \"the\"         \n",
            "[56] \"formation\"    \"and\"          \"composition\"  \"of\"           \"phrases\"     \n",
            "[61] \"and\"          \"sentences\"    \"Many\"         \"modern\"       \"theories\"    \n",
            "[66] \"that\"         \"deal\"         \"with\"         \"the\"          \"principles\"  \n",
            "[71] \"of\"           \"grammar\"      \"are\"          \"based\"        \"on\"          \n",
            "[76] \"Noam\"         \"Chomskys\"     \"framework\"    \"of\"           \"generative\"  \n",
            "[81] \"linguistics\" "
          ]
        }
      ],
      "source": [
        "str_remove_all(set, \"\\\\W\")"
      ],
      "id": "cc05aefc-7013-4f70-bfa9-ddee9ef10171"
    },
    {
      "cell_type": "markdown",
      "metadata": {},
      "source": [
        "Remove all white spaces in the example text."
      ],
      "id": "4ff78029-a3a2-445b-93c2-e00c85cc053c"
    },
    {
      "cell_type": "code",
      "execution_count": null,
      "metadata": {},
      "outputs": [
        {
          "output_type": "stream",
          "name": "stdout",
          "text": [
            "[1] \"Grammarisasystemofruleswhichgovernstheproductionanduseofutterancesinagivenlanguage.Theserulesapplytosoundaswellasmeaning,andincludecomponentialsubsetsofrules,suchasthosepertainingtophonology(theorganisationofphoneticsoundsystems),morphology(theformationandcompositionofwords),andsyntax(theformationandcompositionofphrasesandsentences).ManymoderntheoriesthatdealwiththeprinciplesofgrammararebasedonNoamChomsky'sframeworkofgenerativelinguistics.\""
          ]
        }
      ],
      "source": [
        "str_remove_all(et, \" \")"
      ],
      "id": "94fef2f3-2fde-483a-8055-38195d3d6f1f"
    },
    {
      "cell_type": "markdown",
      "metadata": {},
      "source": [
        "------------------------------------------------------------------------\n",
        "\n",
        "[Back to LADAL](https://ladal.edu.au/regex.html)\n",
        "\n",
        "------------------------------------------------------------------------"
      ],
      "id": "800fe823-aa7f-4d1a-b4d4-cb4932794512"
    }
  ],
  "nbformat": 4,
  "nbformat_minor": 5,
  "metadata": {
    "kernelspec": {
      "display_name": "Python 3",
      "language": "python",
      "name": "python3"
    }
  }
}